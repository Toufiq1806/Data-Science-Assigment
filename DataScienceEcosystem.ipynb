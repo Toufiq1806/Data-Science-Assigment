{
 "cells": [
  {
   "cell_type": "markdown",
   "id": "5cd94a73-1056-4915-897a-e84104aeb92b",
   "metadata": {},
   "source": [
    "# Data Science Tools and Ecosystem\n"
   ]
  },
  {
   "cell_type": "markdown",
   "id": "c9266d84-04df-4729-ac1b-aab5eeae7ee1",
   "metadata": {},
   "source": [
    "In this notebook, Data Science Tools and Ecosystem are summarized.\n",
    "\n"
   ]
  },
  {
   "cell_type": "markdown",
   "id": "21f8fd2e-7330-443c-9248-6393a88d6f07",
   "metadata": {},
   "source": [
    "**Objectives:**\n",
    "* Some of the popular languages that Data Scientists use\n",
    "* Some of the commonly used libraries used by Data Scientists\n",
    "* some Data Science Tools\n",
    "* arithmetic expressions in Python\n",
    "* convert minutes to hours"
   ]
  },
  {
   "cell_type": "markdown",
   "id": "56264173-ce84-4679-8721-9676dcb119af",
   "metadata": {},
   "source": [
    "Some of the popular languages that Data Scientists use are:\n",
    "1. Python\n",
    "2. scala\n",
    "3. r\n",
    "4. julia"
   ]
  },
  {
   "cell_type": "markdown",
   "id": "e1394140-b6d8-41e1-bae3-bee38f2b97b1",
   "metadata": {},
   "source": [
    "Some of the commonly used libraries used by Data Scientists include:\n",
    "1. Pandas\n",
    "2. Numpy\n",
    "3. ggplot2\n",
    "4. Matplotlib"
   ]
  },
  {
   "cell_type": "markdown",
   "id": "a5a934d4-b580-4451-973a-55efd6855942",
   "metadata": {},
   "source": [
    "|Data Science|\n",
    "|--|\n",
    "|Data Science Tools|\n",
    "|Jupyter Notebook|\n",
    "|RStudio|\n",
    "|VS code|"
   ]
  },
  {
   "cell_type": "markdown",
   "id": "6f8891a0-733e-4713-b30d-0dbc29716b17",
   "metadata": {},
   "source": [
    "### Below are a few examples of evaluating arithmetic expressions in Python"
   ]
  },
  {
   "cell_type": "code",
   "execution_count": 4,
   "id": "456ada98-b477-49a9-9592-835c4fc02ed1",
   "metadata": {},
   "outputs": [
    {
     "name": "stdout",
     "output_type": "stream",
     "text": [
      "17\n"
     ]
    }
   ],
   "source": [
    "# This a simple arithmetic expression to mutiply then add integers\n",
    "print((3*4)+5)"
   ]
  },
  {
   "cell_type": "code",
   "execution_count": 5,
   "id": "9703d0ce-ea8e-4973-8272-ab23f9ec0901",
   "metadata": {},
   "outputs": [
    {
     "name": "stdout",
     "output_type": "stream",
     "text": [
      "3.3333333333333335\n"
     ]
    }
   ],
   "source": [
    "# This will convert 200 minutes to hours by diving by 60\n",
    "min = 200\n",
    "hrs = min/60 \n",
    "print(hrs)"
   ]
  },
  {
   "cell_type": "markdown",
   "id": "419a3024-ece2-4308-b388-d03b87a81d01",
   "metadata": {},
   "source": [
    "## Author\n",
    "Mohamed Toufiq"
   ]
  },
  {
   "cell_type": "code",
   "execution_count": null,
   "id": "03eb2642-c4ee-4f2b-893f-314f9e6afa15",
   "metadata": {},
   "outputs": [],
   "source": []
  }
 ],
 "metadata": {
  "kernelspec": {
   "display_name": "Python 3 (ipykernel)",
   "language": "python",
   "name": "python3"
  },
  "language_info": {
   "codemirror_mode": {
    "name": "ipython",
    "version": 3
   },
   "file_extension": ".py",
   "mimetype": "text/x-python",
   "name": "python",
   "nbconvert_exporter": "python",
   "pygments_lexer": "ipython3",
   "version": "3.12.8"
  }
 },
 "nbformat": 4,
 "nbformat_minor": 5
}
